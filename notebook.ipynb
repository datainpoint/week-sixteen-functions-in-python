{
 "cells": [
  {
   "cell_type": "markdown",
   "id": "logical-remark",
   "metadata": {
    "deletable": false,
    "editable": false
   },
   "source": [
    "# 約維安計畫：Python 的函數\n",
    "\n",
    "> 第十六週。\n",
    "\n",
    "[數據交點](https://www.datainpoint.com) | 郭耀仁 <yaojenkuo@datainpoint.com>\n",
    "\n",
    "![](https://media.giphy.com/media/lS0uY9t6lCi69FcWRA/giphy.gif?cid=ecf05e4794fpsbsf1wchieyi6ydffu043mlhfw7l2ibac69l&rid=giphy.gif&ct=g)\n",
    "\n",
    "來源：<https://media.giphy.com/media/lS0uY9t6lCi69FcWRA/giphy.gif>\n",
    "\n",
    "在[約維安計畫：Python 起步走](https://datainpoint.substack.com/p/week-twelve-getting-started-with-python)我們透過 `print(\"Hello, World!\")` 來確認 Python 的開發環境及執行環境是否已經安裝妥當，在這一段哈囉世界的程式碼中，其實就能體驗程式設計與資料分析的一個核心精神：對資料應用函數。\n",
    "\n",
    "print 是函數的名稱，`print()` 則表示要應用該函數的功能，而 `\"Hello, World!\"` 則是一個被稱呼為字串（String）的資料型別；換言之，哈囉世界可以表達為：對 `\"Hello, World!\"` 這個字串應用了 `print` 函數。"
   ]
  },
  {
   "cell_type": "code",
   "execution_count": 1,
   "id": "operational-poultry",
   "metadata": {},
   "outputs": [
    {
     "name": "stdout",
     "output_type": "stream",
     "text": [
      "Hello, World!\n"
     ]
    }
   ],
   "source": [
    "print(\"Hello, World!\")"
   ]
  },
  {
   "cell_type": "markdown",
   "id": "divided-stereo",
   "metadata": {
    "deletable": false,
    "editable": false
   },
   "source": [
    "## 什麼是函數\n",
    "\n",
    "函數是構成所有程式語言的基本要素，一個函數是一段「被命名」的程式碼，這段程式碼可以用於執行某個特定任務，可能是數值的運算或者文字的處理，當使用者想要應用（使用、呼叫）某一個函數之前，必須先確定在作用域中該函數已經被定義或者被載入。簡而言之，在哈囉世界的程式碼中，之所以能夠對字串 `\"Hello, World!\"` 應用 `print` 函數，是因為 `print` 函數屬於 Python 的內建函數，在 Python 啟動的當下就會被載入供我們使用，內建函數多達 74 個，所有的內建函數與詳細介紹可以參考：<https://docs.python.org/3/library/functions.html>。\n",
    "\n",
    "## 函數的兩種使用方式\n",
    "\n",
    "在 Python 中最常見的函數使用方式是在函數名稱後接上小括號，並在小括號中輸入物件名稱（該物件所儲存的可能是某個資料型別或者資料結構）以及引數（如果函數有任何參數設計）。\n",
    "\n",
    "```python\n",
    "function_name(OBJECT, ARGUMENTS)\n",
    "```\n",
    "\n",
    "由於 Python 屬於物件導向（Object-oriented）程式語言，第二種函數定義的形式是綁定於物件之上，這時候使用的方式就變成了在物件名稱後接上附屬符號（`.`）再接上函數名稱、小括號與引數（如果函數有任何參數設計），在第二種形式中，不只在使用上的語法相異，在稱呼上我們也不再用「函數」，而是改稱物件的「方法」。\n",
    "\n",
    "```python\n",
    "OBJECT.method_name(ARGUMENTS)\n",
    "```\n",
    "\n",
    "例如 Python 有一個內建函數 `sorted()`，串列有一個方法 `sort()`，兩者都能夠排序一個串列，但是在使用的語法與意義上不同，使用內建函數 `sorted()` 排序串列是我們習慣且直觀的「對資料結構應用函數」，語法是 `sorted(a_list_to_be_sorted)`；使用串列方法 `sort()` 排序是目前較陌生的「使用綁定於資料結構的方法」，語法是 `a_list_to_be_sorted.sort()`。這篇文章中我們專注於自行定義的函數，自行定義物件的方法我們會在「類別」主題時談到。"
   ]
  },
  {
   "cell_type": "code",
   "execution_count": 2,
   "id": "permanent-associate",
   "metadata": {},
   "outputs": [],
   "source": [
    "primes_list = [11, 7, 5, 3, 2]\n",
    "sorted(primes_list) # Apply sorted function to primes_list\n",
    "primes_list.sort()  # Call sort method of primes_list"
   ]
  },
  {
   "cell_type": "markdown",
   "id": "durable-plymouth",
   "metadata": {
    "deletable": false,
    "editable": false
   },
   "source": [
    "## 參數與引數的差別\n",
    "\n",
    "在排序串列的時候，我們可以選擇要「遞增地」排序或者「遞減地」排序，這可以透過傳入的引數（Arguments）調整函數的參數（Parameters），具體來說，函數在定義的階段需要使用的資料型別或資料結構稱為參數，在使用的階段需要指定給參數的資料型別或資料結構就稱為引數。\n",
    "\n",
    "```python\n",
    "def function_name(parameter_1, parameter_2):\n",
    "    pass\n",
    "\n",
    "function_name(argument_1, argument_2)\n",
    "```\n",
    "\n",
    "通常參數會給予預設值，例如 `sorted()` 函數與串列的 `sort()` 方法都具有 `reverse` 參數，預設值給定為 `False`。所以在沒有傳入引數的狀況下，其實就是採用 `reverse=False` 的參數設定，假使不想採用預設值，就能選擇以名稱（Named）參數來傳入引數。"
   ]
  },
  {
   "cell_type": "code",
   "execution_count": 3,
   "id": "exterior-version",
   "metadata": {},
   "outputs": [],
   "source": [
    "primes_list = [11, 7, 5, 3, 2]\n",
    "sorted(primes_list)\n",
    "sorted(primes_list, reverse=True) # Named\n",
    "primes_list.sort()\n",
    "primes_list.sort(reverse=True) # Named"
   ]
  },
  {
   "cell_type": "markdown",
   "id": "renewable-preview",
   "metadata": {
    "deletable": false,
    "editable": false
   },
   "source": [
    "## 更動結果的機制\n",
    "\n",
    "除了使用「函數」或「方法」的差異，另外值得注意之處在於函數與方法的使用都可能讓應用或所屬的物件造成更動，一種更動方式是以回傳值型態輸出更動後的結果；另一種更動方式是直接更動資料型別與資料結構而沒有輸出。這個差異能夠延續前述內建函數 `sorted()` 與串列方法 `sort()` 的例子，`sorted(a_list_to_be_sorted)` 是以回傳值輸出排序後的串列，因此如果沒有將回傳值更新原本命名的串列，排序的更動並不會被保留。"
   ]
  },
  {
   "cell_type": "code",
   "execution_count": 4,
   "id": "satisfied-yacht",
   "metadata": {},
   "outputs": [
    {
     "name": "stdout",
     "output_type": "stream",
     "text": [
      "[2, 3, 5, 7, 11]\n"
     ]
    }
   ],
   "source": [
    "primes_list = [11, 7, 5, 3, 2]\n",
    "sorted(primes_list) # Apply sorted function to primes_list print(primes_list)  # primes_list is not sorted \n",
    "primes_list = sorted(primes_list)  # Update primes_list with function output\n",
    "print(primes_list)  # primes_list is sorted"
   ]
  },
  {
   "cell_type": "markdown",
   "id": "wrong-indianapolis",
   "metadata": {
    "deletable": false,
    "editable": false
   },
   "source": [
    "而 `a_list_to_be_sorted.sort()` 則是直接將排序更動了，不需要更新原本命名的串列，也不會伴隨有回傳值。"
   ]
  },
  {
   "cell_type": "code",
   "execution_count": 5,
   "id": "straight-hindu",
   "metadata": {},
   "outputs": [
    {
     "name": "stdout",
     "output_type": "stream",
     "text": [
      "[2, 3, 5, 7, 11]\n"
     ]
    }
   ],
   "source": [
    "primes_list = [11, 7, 5, 3, 2]\n",
    "primes_list.sort()  # Call sort method of primes_list\n",
    "print(primes_list)  # primes_list is sorted"
   ]
  },
  {
   "cell_type": "markdown",
   "id": "trained-stadium",
   "metadata": {
    "deletable": false,
    "editable": false
   },
   "source": [
    "多數情況下函數與方法會在「以回傳值輸出」或「直接更動物件的狀態」擇一，少數情況下會有兩者兼具的情況，例如串列方法 `pop()` 能夠將串列末端的資料拋出為回傳值，並刪除串列末端的資料點。"
   ]
  },
  {
   "cell_type": "code",
   "execution_count": 6,
   "id": "embedded-particle",
   "metadata": {},
   "outputs": [
    {
     "name": "stdout",
     "output_type": "stream",
     "text": [
      "[11, 7, 5, 3]\n",
      "2\n"
     ]
    }
   ],
   "source": [
    "primes_list = [11, 7, 5, 3, 2]\n",
    "the_last_element = primes_list.pop()\n",
    "print(primes_list)       # The last element was deleted\n",
    "print(the_last_element)  # The last element was returned"
   ]
  },
  {
   "cell_type": "markdown",
   "id": "rolled-shopper",
   "metadata": {
    "deletable": false,
    "editable": false
   },
   "source": [
    "這意味著設計為「函數」或者「物件的方法」並不代表恰好對應「以回傳值輸出」或「直接更動物件狀態」，絕大多數的函數確實是以回傳值輸出，但物件的方法則可能有以回傳值輸出的設計、有直接更動物件狀態的設計甚至是用參數來決定要回傳值輸出或直接更動物件狀態。例如資料科學模組 Pandas 所創造的 `DataFrame` 類別的 `drop` 方法就是採用 `inplace` 參數來決定「以回傳值輸出」或「直接更動物件狀態」。"
   ]
  },
  {
   "cell_type": "code",
   "execution_count": 7,
   "id": "suspended-roller",
   "metadata": {},
   "outputs": [
    {
     "name": "stdout",
     "output_type": "stream",
     "text": [
      "   order  prime\n",
      "0      1      2\n",
      "1      2      3\n",
      "2      3      5\n",
      "3      4      7\n",
      "4      5     11\n"
     ]
    },
    {
     "data": {
      "text/html": [
       "<div>\n",
       "<style scoped>\n",
       "    .dataframe tbody tr th:only-of-type {\n",
       "        vertical-align: middle;\n",
       "    }\n",
       "\n",
       "    .dataframe tbody tr th {\n",
       "        vertical-align: top;\n",
       "    }\n",
       "\n",
       "    .dataframe thead th {\n",
       "        text-align: right;\n",
       "    }\n",
       "</style>\n",
       "<table border=\"1\" class=\"dataframe\">\n",
       "  <thead>\n",
       "    <tr style=\"text-align: right;\">\n",
       "      <th></th>\n",
       "      <th>order</th>\n",
       "    </tr>\n",
       "  </thead>\n",
       "  <tbody>\n",
       "    <tr>\n",
       "      <th>0</th>\n",
       "      <td>1</td>\n",
       "    </tr>\n",
       "    <tr>\n",
       "      <th>1</th>\n",
       "      <td>2</td>\n",
       "    </tr>\n",
       "    <tr>\n",
       "      <th>2</th>\n",
       "      <td>3</td>\n",
       "    </tr>\n",
       "    <tr>\n",
       "      <th>3</th>\n",
       "      <td>4</td>\n",
       "    </tr>\n",
       "    <tr>\n",
       "      <th>4</th>\n",
       "      <td>5</td>\n",
       "    </tr>\n",
       "  </tbody>\n",
       "</table>\n",
       "</div>"
      ],
      "text/plain": [
       "   order\n",
       "0      1\n",
       "1      2\n",
       "2      3\n",
       "3      4\n",
       "4      5"
      ]
     },
     "execution_count": 7,
     "metadata": {},
     "output_type": "execute_result"
    }
   ],
   "source": [
    "import pandas as pd\n",
    "\n",
    "df = pd.DataFrame()\n",
    "df[\"order\"] = list(range(1, 6))\n",
    "df[\"prime\"] = [2, 3, 5, 7, 11]\n",
    "df.drop(axis=1, labels=\"prime\")\n",
    "print(df) # Column is not dropped\n",
    "df.drop(axis=1, labels=\"prime\", inplace=True)\n",
    "df # Column was dropped"
   ]
  },
  {
   "cell_type": "markdown",
   "id": "frequent-korean",
   "metadata": {
    "deletable": false,
    "editable": false
   },
   "source": [
    "## 函數的來源\n",
    "\n",
    "Python 使用者除了能夠應用內建函數以外，還可以從其他三個管道取得數值計算、文字處理、資料結構或更多其他應用所需的函數：\n",
    "\n",
    "1. 標準模組。\n",
    "2. 第三方模組。\n",
    "3. 自行定義。\n",
    "\n",
    "僅有內建函數可以供我們直接使用，另外這三個管道的函數都必須在使用之前確定好在欲產生作用的範疇（作用域）中已經被載入或者定義。使用標準模組以及第三方模組中的函數之前，我們必須確認模組是否已經安裝載入，使用自行定義的函數之前，則是必須確認該函數是否已經完成定義。\n",
    "\n",
    "載入模組的保留字是 `import`，使用模組的函數則需要在其名稱之前註明其模組名稱，例如引入標準模組 `random`，然後使用其中的 `randint` 函數隨機在 0 與 1 之間挑選整數。"
   ]
  },
  {
   "cell_type": "code",
   "execution_count": 8,
   "id": "juvenile-optimization",
   "metadata": {},
   "outputs": [
    {
     "name": "stdout",
     "output_type": "stream",
     "text": [
      "<class 'module'>\n",
      "<class 'method'>\n",
      "0\n"
     ]
    }
   ],
   "source": [
    "import random \n",
    "\n",
    "print(type(random))\n",
    "print(type(random.randint))\n",
    "random_integer = random.randint(0, 1)\n",
    "print(random_integer)"
   ]
  },
  {
   "cell_type": "markdown",
   "id": "several-wrong",
   "metadata": {
    "deletable": false,
    "editable": false
   },
   "source": [
    "## 自行定義函數\n",
    "\n",
    "Python 提供了三種「組織程式碼」的機制供使用者將未來想要重複使用的程式碼包裝成容易使用、容易擴充功能的形式，這三種機制會視應用規模由小到大區分為：\n",
    "\n",
    "1. 自行定義函數。\n",
    "2. 自行定義類別。\n",
    "3. 自行定義模組。\n",
    "\n",
    "在這篇文章中我們專注自行定義函數，也就是最小的組織程式碼機制，在自行定義函數時候需要考慮五個組成要件：\n",
    "\n",
    "1. 函數名稱。\n",
    "2. 輸入。\n",
    "3. 參數。\n",
    "4. 函數主體。\n",
    "5. 輸出。\n",
    "\n",
    "看似抽象，不過想想平日購買珍珠鮮奶茶的流程，就像是函數的運作一般：\n",
    "\n",
    "1. 函數名稱：購買珍珠鮮奶茶。\n",
    "2. 輸入：中杯 35 元；大杯 50 元。\n",
    "3. 參數：甜度（無糖、微糖、半糖、少糖、全糖）與冰塊（去冰、少冰、全冰）。\n",
    "4. 函數主體：點餐、貼標籤、加珍珠、加冰塊、倒茶、加鮮奶一直到封口。\n",
    "5. 輸出：珍珠鮮奶茶。\n",
    "\n",
    "```python\n",
    "def function_name(INPUTS, PARAMETERS):\n",
    "    # body of the function\n",
    "    # ...\n",
    "    # ...sequence of statements\n",
    "    return OUTPUTS\n",
    "```\n",
    "\n",
    "## 作用域\n",
    "\n",
    "在[約維安計畫：Python 的流程控制](https://datainpoint.substack.com/p/week-fifteen-control-flow-in-python)我們提到了程式區塊（Code blocks）的觀念，不論是條件判斷、迴圈或者例外處理，都仰賴縮排（Indentations）建立出程式區塊，並以此作為敘述的附屬。在自行定義函數時也同樣以程式區塊建構出函數主體，不過更特別的是，附屬於 def 敘述的程式區塊具有一個稱為作用域（或稱範疇 Scope）的觀念，在附屬於函數下的程式區塊被稱為 Local scope，函數以外的部分則稱為 Global scope。在 Local scope 中我們可以運用 INPUTS、PARAMETERS 來進行運算並宣告新的物件，但是這都侷限於 Local scope 之中，一但在 Global scope 意圖運用前述的這些物件，都會遭遇到 NameError，意即在 Global scope 中這些物件「沒有作用」，這也是作用域一詞的由來。"
   ]
  },
  {
   "cell_type": "code",
   "execution_count": 9,
   "id": "dirty-avatar",
   "metadata": {},
   "outputs": [
    {
     "name": "stdout",
     "output_type": "stream",
     "text": [
      "True\n",
      "NameError occurred.\n"
     ]
    }
   ],
   "source": [
    "def is_factor(a, b):\n",
    "    modulo = a % b\n",
    "    out = modulo == 0\n",
    "    return out\n",
    "\n",
    "print(is_factor(4, 2))\n",
    "try:\n",
    "    print(a)\n",
    "    print(b)\n",
    "    print(modulo)\n",
    "    print(out)\n",
    "except NameError:\n",
    "    print(\"NameError occurred.\")"
   ]
  },
  {
   "cell_type": "markdown",
   "id": "bored-broad",
   "metadata": {
    "deletable": false,
    "editable": false
   },
   "source": [
    "## `return` 的作用\n",
    "\n",
    "初次學習自行定義函數多半都不甚暸解 `return` 保留字的作用，原因是先前太過頻繁地使用 `print()` 函數將文字處理、數值計算或者資料結構操作的結果顯示出來，導致在自行定義函數時不習慣去使用 `return`。事實上，`return` 保留字具有兩個作用，第一個跟字面上意義相同的將函數結果「輸出」，假如在自行定義函數時只有將運算結果用 `print()` 函數顯示出來，該函數就不具備能將結果儲存在物件中的能力，變成只能夠在使用時顯示結果，卻不能將結果儲存起來，例如想要將判斷因數的結果儲存起來，卻得到了 `None`。"
   ]
  },
  {
   "cell_type": "code",
   "execution_count": 10,
   "id": "sharp-closure",
   "metadata": {},
   "outputs": [
    {
     "name": "stdout",
     "output_type": "stream",
     "text": [
      "True\n",
      "None\n"
     ]
    }
   ],
   "source": [
    "def is_factor(a, b):\n",
    "    modulo = a % b\n",
    "    out = modulo == 0\n",
    "    print(out)\n",
    "\n",
    "function_output = is_factor(4, 2)\n",
    "print(function_output)"
   ]
  },
  {
   "cell_type": "markdown",
   "id": "experimental-detail",
   "metadata": {
    "deletable": false,
    "editable": false
   },
   "source": [
    "第二個是終止程式區塊的執行，在函數程式區塊中寫在 `return` 之後的所有內容在使用函數的時候都不會有任何作用。"
   ]
  },
  {
   "cell_type": "code",
   "execution_count": 11,
   "id": "concerned-coordination",
   "metadata": {},
   "outputs": [
    {
     "name": "stdout",
     "output_type": "stream",
     "text": [
      "True\n"
     ]
    }
   ],
   "source": [
    "def is_factor(a, b):\n",
    "    modulo = a % b\n",
    "    out = modulo == 0\n",
    "    return out\n",
    "    print(out)    # will not be printed\n",
    "    print(modulo) # will not be printed\n",
    "    print(a)      # will not be printed\n",
    "    print(b)      # will not be printed\n",
    "\n",
    "function_output = is_factor(4, 2)\n",
    "print(function_output)"
   ]
  },
  {
   "cell_type": "markdown",
   "id": "organic-ministry",
   "metadata": {
    "deletable": false,
    "editable": false
   },
   "source": [
    "## 輸入與輸出的對應關係\n",
    "\n",
    "自行定義函數的重點在於規劃輸入與輸出的對應關係，如同在數學課中學過的「函數映射關係」，只要釐清了自行定義函數針對輸入與輸出的設計機制，剩下的任務就僅是將程式區塊的函數主體完成而已。\n",
    "\n",
    "從輸入開始，函數可以接受沒有輸入與參數的設計，在小括號中留空即可。"
   ]
  },
  {
   "cell_type": "code",
   "execution_count": 12,
   "id": "fitting-retro",
   "metadata": {},
   "outputs": [
    {
     "name": "stdout",
     "output_type": "stream",
     "text": [
      "Hello, World!\n"
     ]
    }
   ],
   "source": [
    "def hello_world():\n",
    "    return \"Hello, World!\"\n",
    "\n",
    "print(hello_world())"
   ]
  },
  {
   "cell_type": "markdown",
   "id": "spectacular-version",
   "metadata": {
    "deletable": false,
    "editable": false
   },
   "source": [
    "函數當然可以接受有輸入與參數的設計，好的函數設計會在參數給予合適的預設值。"
   ]
  },
  {
   "cell_type": "code",
   "execution_count": 13,
   "id": "supposed-oracle",
   "metadata": {},
   "outputs": [
    {
     "name": "stdout",
     "output_type": "stream",
     "text": [
      "Hello, World!\n",
      "Hello, Function!\n"
     ]
    }
   ],
   "source": [
    "def hello_someone(someone=\"World\"):\n",
    "    return f\"Hello, {someone}!\"\n",
    "\n",
    "print(hello_someone())\n",
    "print(hello_someone(someone=\"Function\"))"
   ]
  },
  {
   "cell_type": "markdown",
   "id": "announced-glasgow",
   "metadata": {
    "deletable": false,
    "editable": false
   },
   "source": [
    "設計要接受多個輸入值的函數時，可以用資料結構容納多個輸入資料。"
   ]
  },
  {
   "cell_type": "code",
   "execution_count": 14,
   "id": "arctic-reducing",
   "metadata": {},
   "outputs": [
    {
     "name": "stdout",
     "output_type": "stream",
     "text": [
      "[4, 9]\n",
      "[4, 9, 25]\n"
     ]
    }
   ],
   "source": [
    "def square_multiple_integers(x):\n",
    "    out = []\n",
    "    for elem in x:\n",
    "        out.append(elem**2)\n",
    "    return out\n",
    "\n",
    "print(square_multiple_integers([2, 3]))\n",
    "print(square_multiple_integers([2, 3, 5]))"
   ]
  },
  {
   "cell_type": "markdown",
   "id": "executive-content",
   "metadata": {
    "deletable": false,
    "editable": false
   },
   "source": [
    "如果希望多個輸入值分別以參數傳入而資料結構，可以運用 Python 自行定義函數的特殊設計：彈性參數（Flexible arguments），在小括號中給予 `*args` 就能夠在 Local scope 中以 `tuple` 處理 `args`。"
   ]
  },
  {
   "cell_type": "code",
   "execution_count": 15,
   "id": "sought-memphis",
   "metadata": {},
   "outputs": [
    {
     "name": "stdout",
     "output_type": "stream",
     "text": [
      "<class 'tuple'>\n",
      "[4, 9]\n",
      "<class 'tuple'>\n",
      "[4, 9, 25]\n"
     ]
    }
   ],
   "source": [
    "def square_multiple_integers(*args):\n",
    "    print(type(args))\n",
    "    out = []\n",
    "    for elem in args:\n",
    "        out.append(elem**2)\n",
    "    return out\n",
    "\n",
    "print(square_multiple_integers(2, 3))\n",
    "print(square_multiple_integers(2, 3, 5))"
   ]
  },
  {
   "cell_type": "markdown",
   "id": "fixed-tomorrow",
   "metadata": {
    "deletable": false,
    "editable": false
   },
   "source": [
    "再來是輸出，即便絕大多數的函數都具有回傳值，但也不代表函數非具備 `return` 不可，如果是這樣的情況我們會得到 `None` 為函數的回傳值。"
   ]
  },
  {
   "cell_type": "code",
   "execution_count": 16,
   "id": "clean-paint",
   "metadata": {},
   "outputs": [
    {
     "name": "stdout",
     "output_type": "stream",
     "text": [
      "<class 'NoneType'>\n"
     ]
    }
   ],
   "source": [
    "def hello_world():\n",
    "    out = \"Hello, World!\"\n",
    "\n",
    "function_output = hello_world()\n",
    "print(type(function_output))"
   ]
  },
  {
   "cell_type": "markdown",
   "id": "constant-jones",
   "metadata": {
    "deletable": false,
    "editable": false
   },
   "source": [
    "多個輸出的處理預設是以 tuple 回傳，亦可以搭配 Python 的 Unpack 特性用多個物件去儲存。"
   ]
  },
  {
   "cell_type": "code",
   "execution_count": 17,
   "id": "optical-warrant",
   "metadata": {},
   "outputs": [
    {
     "name": "stdout",
     "output_type": "stream",
     "text": [
      "<class 'tuple'>\n",
      "9\n",
      "16\n"
     ]
    }
   ],
   "source": [
    "def square_two_integers(a, b):\n",
    "    out_a = a**2\n",
    "    out_b = b**2\n",
    "    return out_a, out_b\n",
    "\n",
    "function_output_as_tuple = square_two_integers(3, 4)\n",
    "func_out_a, func_out_b = square_two_integers(3, 4)\n",
    "print(type(function_output_as_tuple))\n",
    "print(func_out_a)\n",
    "print(func_out_b)"
   ]
  },
  {
   "cell_type": "markdown",
   "id": "transsexual-suicide",
   "metadata": {
    "deletable": false,
    "editable": false
   },
   "source": [
    "多個輸出的處理相較輸入單純許多，就是採用適當的資料結構儲存。"
   ]
  },
  {
   "cell_type": "code",
   "execution_count": 18,
   "id": "baking-eligibility",
   "metadata": {},
   "outputs": [
    {
     "name": "stdout",
     "output_type": "stream",
     "text": [
      "{'a': 9, 'b': 16}\n"
     ]
    }
   ],
   "source": [
    "def square_two_integers(a, b):\n",
    "    out = {\n",
    "        \"a\": a**2,\n",
    "        \"b\": b**2\n",
    "    }\n",
    "    return out\n",
    "function_output_as_dict = square_two_integers(3, 4)\n",
    "print(function_output_as_dict)"
   ]
  },
  {
   "cell_type": "markdown",
   "id": "closing-maine",
   "metadata": {
    "deletable": false,
    "editable": false
   },
   "source": [
    "在認識了函數的各種眉眉角角之後，第十六週約維安計畫：Python 的函數來到尾聲，希望您也和我一樣期待下一篇文章。\n",
    "\n",
    "## 延伸閱讀\n",
    "\n",
    "- <https://docs.python.org/3/library/functions.html>"
   ]
  }
 ],
 "metadata": {
  "kernelspec": {
   "display_name": "Python Data Science",
   "language": "python",
   "name": "pyds"
  },
  "language_info": {
   "codemirror_mode": {
    "name": "ipython",
    "version": 3
   },
   "file_extension": ".py",
   "mimetype": "text/x-python",
   "name": "python",
   "nbconvert_exporter": "python",
   "pygments_lexer": "ipython3",
   "version": "3.8.10"
  }
 },
 "nbformat": 4,
 "nbformat_minor": 5
}
